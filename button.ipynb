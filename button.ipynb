{
 "cells": [
  {
   "cell_type": "code",
   "execution_count": 8,
   "id": "16da7770",
   "metadata": {},
   "outputs": [],
   "source": [
    "from tkinter import *\n",
    "from tkinter import messagebox\n",
    "from math import *\n",
    "\n",
    "\n",
    "def changining_the_color():\n",
    "    \n",
    "    frm = int(e1.get())\n",
    "    to   = int(e2.get())\n",
    "    fill = 'red'\n",
    "    if var.get() == 0:\n",
    "        fill = 'red'\n",
    "    else if var.get() == 1:\n",
    "        fill = 'green'\n",
    "    else if var.get() == 2:\n",
    "        fill = 'blue'\n",
    "    for i in range( frm, to):\n",
    "        canvas.create_line(i,10*sin(i)+150, i+1, 10*sin(i)+150, fill= fill , width=10)\n",
    "       \n",
    "master = Tk()\n",
    "master.title('Рисуем')\n",
    "\n",
    "canvas = Canvas(master, width=800, height=400, background='black')\n",
    "canvas.grid(column=0, row=1)\n",
    "\n",
    "l1 = Label(master, text='t0')\n",
    "l1.grid(row=2, column=0, sticky='e')\n",
    "l2 = Label(master, text='t1')\n",
    "l2.grid(row=3, column=0, sticky='e')\n",
    "\n",
    "e1 = Entry(master)\n",
    "e2 = Entry(master)\n",
    "e1.grid(row=2, column=1)\n",
    "e2.grid(row=3, column=1)\n",
    "\n",
    "var = IntVar()\n",
    "var.set(0)\n",
    "redbutton = Radiobutton(master, text = 'Red', fg ='red', variable=var, value= 0)\n",
    "redbutton.grid(row=4, column=1)\n",
    "greenbutton = Radiobutton(master, text = 'Green', fg='green', variable=var, value= 1)\n",
    "greenbutton.grid(row=5, column=1)\n",
    "bluebutton = Radiobutton(master, text ='Blue', fg ='blue', variable=var, value= 2)\n",
    "bluebutton.grid(row=6, column=1)\n",
    "\n",
    "b1 = Button(master, text=\"plotting a graph\", command = changining_the_color)\n",
    "b1.grid(row=8, column = 1)\n",
    "\n",
    "master.mainloop()"
   ]
  },
  {
   "cell_type": "code",
   "execution_count": null,
   "id": "60bcb3d6",
   "metadata": {},
   "outputs": [],
   "source": []
  },
  {
   "cell_type": "code",
   "execution_count": null,
   "id": "ea3bf870",
   "metadata": {},
   "outputs": [],
   "source": []
  },
  {
   "cell_type": "code",
   "execution_count": null,
   "id": "eafd94cc",
   "metadata": {},
   "outputs": [],
   "source": []
  }
 ],
 "metadata": {
  "kernelspec": {
   "display_name": "Python 3 (ipykernel)",
   "language": "python",
   "name": "python3"
  },
  "language_info": {
   "codemirror_mode": {
    "name": "ipython",
    "version": 3
   },
   "file_extension": ".py",
   "mimetype": "text/x-python",
   "name": "python",
   "nbconvert_exporter": "python",
   "pygments_lexer": "ipython3",
   "version": "3.9.13"
  }
 },
 "nbformat": 4,
 "nbformat_minor": 5
}
